{
  "cells": [
    {
      "metadata": {
        "trusted": true
      },
      "cell_type": "code",
      "source": "shey <- c(20,50,60,80)\nshey * 20",
      "execution_count": 13,
      "outputs": [
        {
          "output_type": "display_data",
          "data": {
            "text/plain": "[1]  400 1000 1200 1600",
            "text/latex": "\\begin{enumerate*}\n\\item 400\n\\item 1000\n\\item 1200\n\\item 1600\n\\end{enumerate*}\n",
            "text/markdown": "1. 400\n2. 1000\n3. 1200\n4. 1600\n\n\n",
            "text/html": "<ol class=list-inline>\n\t<li>400</li>\n\t<li>1000</li>\n\t<li>1200</li>\n\t<li>1600</li>\n</ol>\n"
          },
          "metadata": {}
        }
      ]
    },
    {
      "metadata": {
        "trusted": true
      },
      "cell_type": "code",
      "source": "shey / 10",
      "execution_count": 14,
      "outputs": [
        {
          "output_type": "display_data",
          "data": {
            "text/plain": "[1] 2 5 6 8",
            "text/latex": "\\begin{enumerate*}\n\\item 2\n\\item 5\n\\item 6\n\\item 8\n\\end{enumerate*}\n",
            "text/markdown": "1. 2\n2. 5\n3. 6\n4. 8\n\n\n",
            "text/html": "<ol class=list-inline>\n\t<li>2</li>\n\t<li>5</li>\n\t<li>6</li>\n\t<li>8</li>\n</ol>\n"
          },
          "metadata": {}
        }
      ]
    },
    {
      "metadata": {
        "trusted": true
      },
      "cell_type": "code",
      "source": "#create a collection of stem and non_stem final grade for a class\nmath <- 88\nchemistry <- 87.6667\nwriting <- 86\nart <- 91.333333\nhistory <- 84\nmusic <- 91\nphysical_education <- 89.333333\n",
      "execution_count": 15,
      "outputs": []
    },
    {
      "metadata": {
        "trusted": true
      },
      "cell_type": "code",
      "source": "final_grade <- c(math, chemistry, writing, art, history,music,physical_education)\nraw_grade <- c(88, 87.667, 86, 91.333333, 84, 91, 89.33333)",
      "execution_count": 16,
      "outputs": []
    },
    {
      "metadata": {
        "trusted": true
      },
      "cell_type": "code",
      "source": "#extrat the stem courses\nstem_course <- final_grade[1:2]\nnon_stem_course <- final_grade[3:7]\n",
      "execution_count": 17,
      "outputs": []
    },
    {
      "metadata": {
        "trusted": true
      },
      "cell_type": "code",
      "source": "#find the average of stem_courses and non_stem_courses final_grade \nmean_stem_course <- mean(stem_course)\nmean_non_stem <- mean(non_stem_course)\nmean_stem_course\nmean_non_stem",
      "execution_count": 18,
      "outputs": [
        {
          "output_type": "display_data",
          "data": {
            "text/plain": "[1] 87.83335",
            "text/latex": "87.83335",
            "text/markdown": "87.83335",
            "text/html": "87.83335"
          },
          "metadata": {}
        },
        {
          "output_type": "display_data",
          "data": {
            "text/plain": "[1] 88.33333",
            "text/latex": "88.3333332",
            "text/markdown": "88.3333332",
            "text/html": "88.3333332"
          },
          "metadata": {}
        }
      ]
    },
    {
      "metadata": {},
      "cell_type": "markdown",
      "source": "### Data type in R language\nNumeric type\n- Integer or whole numbers\n- Double data or decimal\n\nCharacter type\nmust be surounded with single or double quote\n"
    },
    {
      "metadata": {
        "trusted": true
      },
      "cell_type": "code",
      "source": "#the type can be found out by using the typeof() function\ntypeof(final_grade)",
      "execution_count": 19,
      "outputs": [
        {
          "output_type": "display_data",
          "data": {
            "text/plain": "[1] \"double\"",
            "text/latex": "'double'",
            "text/markdown": "'double'",
            "text/html": "'double'"
          },
          "metadata": {}
        }
      ]
    },
    {
      "metadata": {
        "trusted": true
      },
      "cell_type": "code",
      "source": "#character data type can be palce in a collection function or vector\nmath_chemistry <- c('math', 'chemistry')\ntypeof(math_chemistry)",
      "execution_count": 20,
      "outputs": [
        {
          "output_type": "display_data",
          "data": {
            "text/plain": "[1] \"character\"",
            "text/latex": "'character'",
            "text/markdown": "'character'",
            "text/html": "'character'"
          },
          "metadata": {}
        }
      ]
    },
    {
      "metadata": {},
      "cell_type": "markdown",
      "source": "Create a vector of character data called class_names containing your classes in the following order:\n\n- math\n- chemistry\n- writing\n- art\n- history\n- music\n- physical_education"
    },
    {
      "metadata": {
        "trusted": true
      },
      "cell_type": "code",
      "source": "#solution\nclass_names <- c('math', 'chemistry', 'writing', 'art', 'history', 'music', 'physical_education')\ntypeof(class_names)",
      "execution_count": 21,
      "outputs": [
        {
          "output_type": "display_data",
          "data": {
            "text/plain": "[1] \"character\"",
            "text/latex": "'character'",
            "text/markdown": "'character'",
            "text/html": "'character'"
          },
          "metadata": {}
        }
      ]
    },
    {
      "metadata": {
        "trusted": true
      },
      "cell_type": "code",
      "source": "#using the names() function to assign one vector to another)\n\nmath_chem <- c('math', 'chemistry')\ngrade_math_chem <- c(88, 87.66667)\nnames(grade_math_chem) <- math_chem",
      "execution_count": 22,
      "outputs": []
    },
    {
      "metadata": {
        "trusted": true
      },
      "cell_type": "code",
      "source": "grade_math_chem",
      "execution_count": 23,
      "outputs": [
        {
          "output_type": "display_data",
          "data": {
            "text/plain": "     math chemistry \n 88.00000  87.66667 ",
            "text/latex": "\\begin{description*}\n\\item[math] 88\n\\item[chemistry] 87.66667\n\\end{description*}\n",
            "text/markdown": "math\n:   88chemistry\n:   87.66667\n\n",
            "text/html": "<dl class=dl-horizontal>\n\t<dt>math</dt>\n\t\t<dd>88</dd>\n\t<dt>chemistry</dt>\n\t\t<dd>87.66667</dd>\n</dl>\n"
          },
          "metadata": {}
        }
      ]
    },
    {
      "metadata": {},
      "cell_type": "markdown",
      "source": "Use the class_names vector to assign names to elements of the raw_grade vector."
    },
    {
      "metadata": {
        "trusted": true
      },
      "cell_type": "code",
      "source": "names(raw_grade) <- class_names",
      "execution_count": 24,
      "outputs": []
    },
    {
      "metadata": {
        "trusted": true
      },
      "cell_type": "code",
      "source": "raw_grade",
      "execution_count": 25,
      "outputs": [
        {
          "output_type": "display_data",
          "data": {
            "text/plain": "              math          chemistry            writing                art \n          88.00000           87.66700           86.00000           91.33333 \n           history              music physical_education \n          84.00000           91.00000           89.33333 ",
            "text/latex": "\\begin{description*}\n\\item[math] 88\n\\item[chemistry] 87.667\n\\item[writing] 86\n\\item[art] 91.333333\n\\item[history] 84\n\\item[music] 91\n\\item[physical\\textbackslash{}\\_education] 89.33333\n\\end{description*}\n",
            "text/markdown": "math\n:   88chemistry\n:   87.667writing\n:   86art\n:   91.333333history\n:   84music\n:   91physical_education\n:   89.33333\n\n",
            "text/html": "<dl class=dl-horizontal>\n\t<dt>math</dt>\n\t\t<dd>88</dd>\n\t<dt>chemistry</dt>\n\t\t<dd>87.667</dd>\n\t<dt>writing</dt>\n\t\t<dd>86</dd>\n\t<dt>art</dt>\n\t\t<dd>91.333333</dd>\n\t<dt>history</dt>\n\t\t<dd>84</dd>\n\t<dt>music</dt>\n\t\t<dd>91</dd>\n\t<dt>physical_education</dt>\n\t\t<dd>89.33333</dd>\n</dl>\n"
          },
          "metadata": {}
        }
      ]
    },
    {
      "metadata": {
        "trusted": true
      },
      "cell_type": "code",
      "source": "raw_grade['chemistry']",
      "execution_count": 26,
      "outputs": [
        {
          "output_type": "display_data",
          "data": {
            "text/plain": "chemistry \n   87.667 ",
            "text/latex": "\\textbf{chemistry:} 87.667",
            "text/markdown": "**chemistry:** 87.667",
            "text/html": "<strong>chemistry:</strong> 87.667"
          },
          "metadata": {}
        }
      ]
    },
    {
      "metadata": {
        "trusted": true
      },
      "cell_type": "code",
      "source": "raw_grade[2]",
      "execution_count": 27,
      "outputs": [
        {
          "output_type": "display_data",
          "data": {
            "text/plain": "chemistry \n   87.667 ",
            "text/latex": "\\textbf{chemistry:} 87.667",
            "text/markdown": "**chemistry:** 87.667",
            "text/html": "<strong>chemistry:</strong> 87.667"
          },
          "metadata": {}
        }
      ]
    },
    {
      "metadata": {},
      "cell_type": "markdown",
      "source": "#### Indexing by names"
    },
    {
      "metadata": {
        "trusted": true
      },
      "cell_type": "code",
      "source": "liberal_art <- raw_grade[c('writing', 'history')]",
      "execution_count": 28,
      "outputs": []
    },
    {
      "metadata": {
        "trusted": true
      },
      "cell_type": "code",
      "source": "liberal_art",
      "execution_count": 29,
      "outputs": [
        {
          "output_type": "display_data",
          "data": {
            "text/plain": "writing history \n     86      84 ",
            "text/latex": "\\begin{description*}\n\\item[writing] 86\n\\item[history] 84\n\\end{description*}\n",
            "text/markdown": "writing\n:   86history\n:   84\n\n",
            "text/html": "<dl class=dl-horizontal>\n\t<dt>writing</dt>\n\t\t<dd>86</dd>\n\t<dt>history</dt>\n\t\t<dd>84</dd>\n</dl>\n"
          },
          "metadata": {}
        }
      ]
    },
    {
      "metadata": {
        "trusted": true
      },
      "cell_type": "code",
      "source": "average_libera_art <- mean(liberal_art)",
      "execution_count": 30,
      "outputs": []
    },
    {
      "metadata": {
        "trusted": true
      },
      "cell_type": "code",
      "source": "fine_art <- raw_grade[c('art', 'music')]",
      "execution_count": 31,
      "outputs": []
    },
    {
      "metadata": {
        "trusted": true
      },
      "cell_type": "code",
      "source": "fine_art",
      "execution_count": 32,
      "outputs": [
        {
          "output_type": "display_data",
          "data": {
            "text/plain": "     art    music \n91.33333 91.00000 ",
            "text/latex": "\\begin{description*}\n\\item[art] 91.333333\n\\item[music] 91\n\\end{description*}\n",
            "text/markdown": "art\n:   91.333333music\n:   91\n\n",
            "text/html": "<dl class=dl-horizontal>\n\t<dt>art</dt>\n\t\t<dd>91.333333</dd>\n\t<dt>music</dt>\n\t\t<dd>91</dd>\n</dl>\n"
          },
          "metadata": {}
        }
      ]
    },
    {
      "metadata": {
        "trusted": true
      },
      "cell_type": "code",
      "source": "average_fine_art <- mean(fine_art)",
      "execution_count": 33,
      "outputs": []
    },
    {
      "metadata": {},
      "cell_type": "markdown",
      "source": "Another data type of R is Boolean or Logic and it take two forms\nthis comes about when the operators are used and applied:\n\n- True\n- False\n"
    },
    {
      "metadata": {
        "trusted": true
      },
      "cell_type": "code",
      "source": "average_libera_art > average_fine_art",
      "execution_count": 34,
      "outputs": [
        {
          "output_type": "display_data",
          "data": {
            "text/plain": "[1] FALSE",
            "text/latex": "FALSE",
            "text/markdown": "FALSE",
            "text/html": "FALSE"
          },
          "metadata": {}
        }
      ]
    },
    {
      "metadata": {},
      "cell_type": "markdown",
      "source": "#### Comparing values"
    },
    {
      "metadata": {
        "trusted": true
      },
      "cell_type": "code",
      "source": "raw_grade['math'] > raw_grade",
      "execution_count": 35,
      "outputs": [
        {
          "output_type": "display_data",
          "data": {
            "text/plain": "              math          chemistry            writing                art \n             FALSE               TRUE               TRUE              FALSE \n           history              music physical_education \n              TRUE              FALSE              FALSE ",
            "text/latex": "\\begin{description*}\n\\item[math] FALSE\n\\item[chemistry] TRUE\n\\item[writing] TRUE\n\\item[art] FALSE\n\\item[history] TRUE\n\\item[music] FALSE\n\\item[physical\\textbackslash{}\\_education] FALSE\n\\end{description*}\n",
            "text/markdown": "math\n:   FALSEchemistry\n:   TRUEwriting\n:   TRUEart\n:   FALSEhistory\n:   TRUEmusic\n:   FALSEphysical_education\n:   FALSE\n\n",
            "text/html": "<dl class=dl-horizontal>\n\t<dt>math</dt>\n\t\t<dd>FALSE</dd>\n\t<dt>chemistry</dt>\n\t\t<dd>TRUE</dd>\n\t<dt>writing</dt>\n\t\t<dd>TRUE</dd>\n\t<dt>art</dt>\n\t\t<dd>FALSE</dd>\n\t<dt>history</dt>\n\t\t<dd>TRUE</dd>\n\t<dt>music</dt>\n\t\t<dd>FALSE</dd>\n\t<dt>physical_education</dt>\n\t\t<dd>FALSE</dd>\n</dl>\n"
          },
          "metadata": {}
        }
      ]
    },
    {
      "metadata": {
        "trusted": true
      },
      "cell_type": "code",
      "source": "gpa <- mean(raw_grade) ",
      "execution_count": 36,
      "outputs": []
    },
    {
      "metadata": {},
      "cell_type": "markdown",
      "source": "#### comparing the average final grade with the indivial scores"
    },
    {
      "metadata": {
        "trusted": true
      },
      "cell_type": "code",
      "source": "above_average <- raw_grade > gpa\nabove_average\n",
      "execution_count": 37,
      "outputs": [
        {
          "output_type": "display_data",
          "data": {
            "text/plain": "              math          chemistry            writing                art \n             FALSE              FALSE              FALSE               TRUE \n           history              music physical_education \n             FALSE               TRUE               TRUE ",
            "text/latex": "\\begin{description*}\n\\item[math] FALSE\n\\item[chemistry] FALSE\n\\item[writing] FALSE\n\\item[art] TRUE\n\\item[history] FALSE\n\\item[music] TRUE\n\\item[physical\\textbackslash{}\\_education] TRUE\n\\end{description*}\n",
            "text/markdown": "math\n:   FALSEchemistry\n:   FALSEwriting\n:   FALSEart\n:   TRUEhistory\n:   FALSEmusic\n:   TRUEphysical_education\n:   TRUE\n\n",
            "text/html": "<dl class=dl-horizontal>\n\t<dt>math</dt>\n\t\t<dd>FALSE</dd>\n\t<dt>chemistry</dt>\n\t\t<dd>FALSE</dd>\n\t<dt>writing</dt>\n\t\t<dd>FALSE</dd>\n\t<dt>art</dt>\n\t\t<dd>TRUE</dd>\n\t<dt>history</dt>\n\t\t<dd>FALSE</dd>\n\t<dt>music</dt>\n\t\t<dd>TRUE</dd>\n\t<dt>physical_education</dt>\n\t\t<dd>TRUE</dd>\n</dl>\n"
          },
          "metadata": {}
        }
      ]
    },
    {
      "metadata": {},
      "cell_type": "markdown",
      "source": "##### Logical indexing"
    },
    {
      "metadata": {
        "trusted": true
      },
      "cell_type": "code",
      "source": "logical_indexing <- raw_grade > gpa",
      "execution_count": 38,
      "outputs": []
    },
    {
      "metadata": {
        "trusted": true
      },
      "cell_type": "code",
      "source": "final_grade[logical_indexing]",
      "execution_count": 39,
      "outputs": [
        {
          "output_type": "display_data",
          "data": {
            "text/plain": "[1] 91.33333 91.00000 89.33333",
            "text/latex": "\\begin{enumerate*}\n\\item 91.333333\n\\item 91\n\\item 89.333333\n\\end{enumerate*}\n",
            "text/markdown": "1. 91.333333\n2. 91\n3. 89.333333\n\n\n",
            "text/html": "<ol class=list-inline>\n\t<li>91.333333</li>\n\t<li>91</li>\n\t<li>89.333333</li>\n</ol>\n"
          },
          "metadata": {}
        }
      ]
    },
    {
      "metadata": {},
      "cell_type": "markdown",
      "source": "##### Performing arithmetical calculation on multiple vectors simultaneousely"
    },
    {
      "metadata": {
        "trusted": true
      },
      "cell_type": "code",
      "source": "tests <- c(76, 89, 78, 88, 79, 93, 89)\nhomework <- c(85, 90, 88, 79, 88, 95, 74)\nprojects <- c(77, 93, 87, 90, 77, 82, 80)",
      "execution_count": 40,
      "outputs": []
    },
    {
      "metadata": {
        "trusted": true
      },
      "cell_type": "code",
      "source": "sum <- tests + homework + projects\nsum",
      "execution_count": 41,
      "outputs": [
        {
          "output_type": "display_data",
          "data": {
            "text/plain": "[1] 238 272 253 257 244 270 243",
            "text/latex": "\\begin{enumerate*}\n\\item 238\n\\item 272\n\\item 253\n\\item 257\n\\item 244\n\\item 270\n\\item 243\n\\end{enumerate*}\n",
            "text/markdown": "1. 238\n2. 272\n3. 253\n4. 257\n5. 244\n6. 270\n7. 243\n\n\n",
            "text/html": "<ol class=list-inline>\n\t<li>238</li>\n\t<li>272</li>\n\t<li>253</li>\n\t<li>257</li>\n\t<li>244</li>\n\t<li>270</li>\n\t<li>243</li>\n</ol>\n"
          },
          "metadata": {}
        }
      ]
    },
    {
      "metadata": {},
      "cell_type": "markdown",
      "source": "#### average scores for each class by adding the tests, homework, and projects vectors and dividing by 3"
    },
    {
      "metadata": {
        "trusted": true
      },
      "cell_type": "code",
      "source": "johny_score <- tests + homework + projects/3\njohny_score",
      "execution_count": 42,
      "outputs": [
        {
          "output_type": "display_data",
          "data": {
            "text/plain": "[1] 186.6667 210.0000 195.0000 197.0000 192.6667 215.3333 189.6667",
            "text/latex": "\\begin{enumerate*}\n\\item 186.666666666667\n\\item 210\n\\item 195\n\\item 197\n\\item 192.666666666667\n\\item 215.333333333333\n\\item 189.666666666667\n\\end{enumerate*}\n",
            "text/markdown": "1. 186.666666666667\n2. 210\n3. 195\n4. 197\n5. 192.666666666667\n6. 215.333333333333\n7. 189.666666666667\n\n\n",
            "text/html": "<ol class=list-inline>\n\t<li>186.666666666667</li>\n\t<li>210</li>\n\t<li>195</li>\n\t<li>197</li>\n\t<li>192.666666666667</li>\n\t<li>215.333333333333</li>\n\t<li>189.666666666667</li>\n</ol>\n"
          },
          "metadata": {}
        }
      ]
    },
    {
      "metadata": {
        "trusted": true
      },
      "cell_type": "code",
      "source": "mean(johny_score)",
      "execution_count": 43,
      "outputs": [
        {
          "output_type": "display_data",
          "data": {
            "text/plain": "[1] 198.0476",
            "text/latex": "198.047619047619",
            "text/markdown": "198.047619047619",
            "text/html": "198.047619047619"
          },
          "metadata": {}
        }
      ]
    },
    {
      "metadata": {},
      "cell_type": "markdown",
      "source": "#### recyling in R\nthis is the process of carryingout mathematical operations on unmatched vectors\n\ntest, homework and project grades:\n\n- Tests: 76, 89, 78\n- Homework: 85, 90, 88, 79, 88, 95, 74\n- Projects: 77, 93, 87, 90, 77, 82, 80\n\n\ncalculate the sum test, homework, and project grades"
    },
    {
      "metadata": {
        "trusted": true
      },
      "cell_type": "code",
      "source": "tests <- c(76, 89, 78)\nhomework <- c(85,90, 88, 79, 88,95, 74)\nproject <- c(77,93,87,90,77,82, 80)",
      "execution_count": 44,
      "outputs": []
    },
    {
      "metadata": {
        "trusted": true
      },
      "cell_type": "code",
      "source": "recycle <- tests + homework + project\nrecycle",
      "execution_count": 45,
      "outputs": [
        {
          "output_type": "stream",
          "text": "Warning message in tests + homework:\n“longer object length is not a multiple of shorter object length”",
          "name": "stderr"
        },
        {
          "output_type": "display_data",
          "data": {
            "text/plain": "[1] 238 272 253 245 254 255 230",
            "text/latex": "\\begin{enumerate*}\n\\item 238\n\\item 272\n\\item 253\n\\item 245\n\\item 254\n\\item 255\n\\item 230\n\\end{enumerate*}\n",
            "text/markdown": "1. 238\n2. 272\n3. 253\n4. 245\n5. 254\n6. 255\n7. 230\n\n\n",
            "text/html": "<ol class=list-inline>\n\t<li>238</li>\n\t<li>272</li>\n\t<li>253</li>\n\t<li>245</li>\n\t<li>254</li>\n\t<li>255</li>\n\t<li>230</li>\n</ol>\n"
          },
          "metadata": {}
        }
      ]
    },
    {
      "metadata": {},
      "cell_type": "markdown",
      "source": "### append additional scores to a vector "
    },
    {
      "metadata": {
        "trusted": true
      },
      "cell_type": "code",
      "source": "tests <- c(tests, 88,79,93,89)\ntests",
      "execution_count": 46,
      "outputs": [
        {
          "output_type": "display_data",
          "data": {
            "text/plain": "[1] 76 89 78 88 79 93 89",
            "text/latex": "\\begin{enumerate*}\n\\item 76\n\\item 89\n\\item 78\n\\item 88\n\\item 79\n\\item 93\n\\item 89\n\\end{enumerate*}\n",
            "text/markdown": "1. 76\n2. 89\n3. 78\n4. 88\n5. 79\n6. 93\n7. 89\n\n\n",
            "text/html": "<ol class=list-inline>\n\t<li>76</li>\n\t<li>89</li>\n\t<li>78</li>\n\t<li>88</li>\n\t<li>79</li>\n\t<li>93</li>\n\t<li>89</li>\n</ol>\n"
          },
          "metadata": {}
        }
      ]
    },
    {
      "metadata": {
        "trusted": true
      },
      "cell_type": "code",
      "source": "tests",
      "execution_count": 48,
      "outputs": [
        {
          "output_type": "display_data",
          "data": {
            "text/plain": "[1] 76 89 78 88 79 93 89",
            "text/latex": "\\begin{enumerate*}\n\\item 76\n\\item 89\n\\item 78\n\\item 88\n\\item 79\n\\item 93\n\\item 89\n\\end{enumerate*}\n",
            "text/markdown": "1. 76\n2. 89\n3. 78\n4. 88\n5. 79\n6. 93\n7. 89\n\n\n",
            "text/html": "<ol class=list-inline>\n\t<li>76</li>\n\t<li>89</li>\n\t<li>78</li>\n\t<li>88</li>\n\t<li>79</li>\n\t<li>93</li>\n\t<li>89</li>\n</ol>\n"
          },
          "metadata": {}
        }
      ]
    },
    {
      "metadata": {
        "trusted": true
      },
      "cell_type": "code",
      "source": "homework",
      "execution_count": 49,
      "outputs": [
        {
          "output_type": "display_data",
          "data": {
            "text/plain": "[1] 85 90 88 79 88 95 74",
            "text/latex": "\\begin{enumerate*}\n\\item 85\n\\item 90\n\\item 88\n\\item 79\n\\item 88\n\\item 95\n\\item 74\n\\end{enumerate*}\n",
            "text/markdown": "1. 85\n2. 90\n3. 88\n4. 79\n5. 88\n6. 95\n7. 74\n\n\n",
            "text/html": "<ol class=list-inline>\n\t<li>85</li>\n\t<li>90</li>\n\t<li>88</li>\n\t<li>79</li>\n\t<li>88</li>\n\t<li>95</li>\n\t<li>74</li>\n</ol>\n"
          },
          "metadata": {}
        }
      ]
    },
    {
      "metadata": {
        "trusted": true
      },
      "cell_type": "code",
      "source": "project",
      "execution_count": 50,
      "outputs": [
        {
          "output_type": "display_data",
          "data": {
            "text/plain": "[1] 77 93 87 90 77 82 80",
            "text/latex": "\\begin{enumerate*}\n\\item 77\n\\item 93\n\\item 87\n\\item 90\n\\item 77\n\\item 82\n\\item 80\n\\end{enumerate*}\n",
            "text/markdown": "1. 77\n2. 93\n3. 87\n4. 90\n5. 77\n6. 82\n7. 80\n\n\n",
            "text/html": "<ol class=list-inline>\n\t<li>77</li>\n\t<li>93</li>\n\t<li>87</li>\n\t<li>90</li>\n\t<li>77</li>\n\t<li>82</li>\n\t<li>80</li>\n</ol>\n"
          },
          "metadata": {}
        }
      ]
    },
    {
      "metadata": {
        "trusted": true
      },
      "cell_type": "markdown",
      "source": "#### Below average grade that needs improvement"
    },
    {
      "metadata": {
        "trusted": true
      },
      "cell_type": "code",
      "source": "your_grade <- (tests + homework + project)/3\nyour_grade",
      "execution_count": 73,
      "outputs": [
        {
          "output_type": "display_data",
          "data": {
            "text/plain": "[1] 79.33333 90.66667 84.33333 85.66667 81.33333 90.00000 81.00000",
            "text/latex": "\\begin{enumerate*}\n\\item 79.3333333333333\n\\item 90.6666666666667\n\\item 84.3333333333333\n\\item 85.6666666666667\n\\item 81.3333333333333\n\\item 90\n\\item 81\n\\end{enumerate*}\n",
            "text/markdown": "1. 79.3333333333333\n2. 90.6666666666667\n3. 84.3333333333333\n4. 85.6666666666667\n5. 81.3333333333333\n6. 90\n7. 81\n\n\n",
            "text/html": "<ol class=list-inline>\n\t<li>79.3333333333333</li>\n\t<li>90.6666666666667</li>\n\t<li>84.3333333333333</li>\n\t<li>85.6666666666667</li>\n\t<li>81.3333333333333</li>\n\t<li>90</li>\n\t<li>81</li>\n</ol>\n"
          },
          "metadata": {}
        }
      ]
    },
    {
      "metadata": {
        "trusted": true
      },
      "cell_type": "code",
      "source": "names(your_grade) <- class_names",
      "execution_count": 74,
      "outputs": []
    },
    {
      "metadata": {
        "trusted": true
      },
      "cell_type": "code",
      "source": "your_grade",
      "execution_count": 75,
      "outputs": [
        {
          "output_type": "display_data",
          "data": {
            "text/plain": "              math          chemistry            writing                art \n          79.33333           90.66667           84.33333           85.66667 \n           history              music physical_education \n          81.33333           90.00000           81.00000 ",
            "text/latex": "\\begin{description*}\n\\item[math] 79.3333333333333\n\\item[chemistry] 90.6666666666667\n\\item[writing] 84.3333333333333\n\\item[art] 85.6666666666667\n\\item[history] 81.3333333333333\n\\item[music] 90\n\\item[physical\\textbackslash{}\\_education] 81\n\\end{description*}\n",
            "text/markdown": "math\n:   79.3333333333333chemistry\n:   90.6666666666667writing\n:   84.3333333333333art\n:   85.6666666666667history\n:   81.3333333333333music\n:   90physical_education\n:   81\n\n",
            "text/html": "<dl class=dl-horizontal>\n\t<dt>math</dt>\n\t\t<dd>79.3333333333333</dd>\n\t<dt>chemistry</dt>\n\t\t<dd>90.6666666666667</dd>\n\t<dt>writing</dt>\n\t\t<dd>84.3333333333333</dd>\n\t<dt>art</dt>\n\t\t<dd>85.6666666666667</dd>\n\t<dt>history</dt>\n\t\t<dd>81.3333333333333</dd>\n\t<dt>music</dt>\n\t\t<dd>90</dd>\n\t<dt>physical_education</dt>\n\t\t<dd>81</dd>\n</dl>\n"
          },
          "metadata": {}
        }
      ]
    },
    {
      "metadata": {
        "trusted": true
      },
      "cell_type": "code",
      "source": "average_grade <- mean(your_grade)\naverage_grade",
      "execution_count": 76,
      "outputs": [
        {
          "output_type": "display_data",
          "data": {
            "text/plain": "[1] 84.61905",
            "text/latex": "84.6190476190476",
            "text/markdown": "84.6190476190476",
            "text/html": "84.6190476190476"
          },
          "metadata": {}
        }
      ]
    },
    {
      "metadata": {
        "trusted": true
      },
      "cell_type": "code",
      "source": "grade_lessthan_ave <- your_grade < average_grade\ngrade_lessthan_ave",
      "execution_count": 77,
      "outputs": [
        {
          "output_type": "display_data",
          "data": {
            "text/plain": "              math          chemistry            writing                art \n              TRUE              FALSE               TRUE              FALSE \n           history              music physical_education \n              TRUE              FALSE               TRUE ",
            "text/latex": "\\begin{description*}\n\\item[math] TRUE\n\\item[chemistry] FALSE\n\\item[writing] TRUE\n\\item[art] FALSE\n\\item[history] TRUE\n\\item[music] FALSE\n\\item[physical\\textbackslash{}\\_education] TRUE\n\\end{description*}\n",
            "text/markdown": "math\n:   TRUEchemistry\n:   FALSEwriting\n:   TRUEart\n:   FALSEhistory\n:   TRUEmusic\n:   FALSEphysical_education\n:   TRUE\n\n",
            "text/html": "<dl class=dl-horizontal>\n\t<dt>math</dt>\n\t\t<dd>TRUE</dd>\n\t<dt>chemistry</dt>\n\t\t<dd>FALSE</dd>\n\t<dt>writing</dt>\n\t\t<dd>TRUE</dd>\n\t<dt>art</dt>\n\t\t<dd>FALSE</dd>\n\t<dt>history</dt>\n\t\t<dd>TRUE</dd>\n\t<dt>music</dt>\n\t\t<dd>FALSE</dd>\n\t<dt>physical_education</dt>\n\t\t<dd>TRUE</dd>\n</dl>\n"
          },
          "metadata": {}
        }
      ]
    },
    {
      "metadata": {
        "trusted": true
      },
      "cell_type": "code",
      "source": "figers <- your_grade[grade_lessthan_ave]\nfigers",
      "execution_count": 78,
      "outputs": [
        {
          "output_type": "display_data",
          "data": {
            "text/plain": "              math            writing            history physical_education \n          79.33333           84.33333           81.33333           81.00000 ",
            "text/latex": "\\begin{description*}\n\\item[math] 79.3333333333333\n\\item[writing] 84.3333333333333\n\\item[history] 81.3333333333333\n\\item[physical\\textbackslash{}\\_education] 81\n\\end{description*}\n",
            "text/markdown": "math\n:   79.3333333333333writing\n:   84.3333333333333history\n:   81.3333333333333physical_education\n:   81\n\n",
            "text/html": "<dl class=dl-horizontal>\n\t<dt>math</dt>\n\t\t<dd>79.3333333333333</dd>\n\t<dt>writing</dt>\n\t\t<dd>84.3333333333333</dd>\n\t<dt>history</dt>\n\t\t<dd>81.3333333333333</dd>\n\t<dt>physical_education</dt>\n\t\t<dd>81</dd>\n</dl>\n"
          },
          "metadata": {}
        }
      ]
    },
    {
      "metadata": {
        "trusted": true
      },
      "cell_type": "markdown",
      "source": "#### World university ranking data set"
    },
    {
      "metadata": {
        "trusted": true
      },
      "cell_type": "markdown",
      "source": "harvard's"
    },
    {
      "metadata": {
        "trusted": true
      },
      "cell_type": "code",
      "source": "parameters <- c('world_rank', 'quality_of_education', 'influence', 'broad_impact', 'patents')\nharvard = c(1,1,1,1,3)\nnames(harvard) <- parameters\n",
      "execution_count": 2,
      "outputs": []
    },
    {
      "metadata": {
        "trusted": true
      },
      "cell_type": "code",
      "source": "harvard",
      "execution_count": 3,
      "outputs": [
        {
          "output_type": "display_data",
          "data": {
            "text/plain": "          world_rank quality_of_education            influence \n                   1                    1                    1 \n        broad_impact              patents \n                   1                    3 ",
            "text/latex": "\\begin{description*}\n\\item[world\\textbackslash{}\\_rank] 1\n\\item[quality\\textbackslash{}\\_of\\textbackslash{}\\_education] 1\n\\item[influence] 1\n\\item[broad\\textbackslash{}\\_impact] 1\n\\item[patents] 3\n\\end{description*}\n",
            "text/markdown": "world_rank\n:   1quality_of_education\n:   1influence\n:   1broad_impact\n:   1patents\n:   3\n\n",
            "text/html": "<dl class=dl-horizontal>\n\t<dt>world_rank</dt>\n\t\t<dd>1</dd>\n\t<dt>quality_of_education</dt>\n\t\t<dd>1</dd>\n\t<dt>influence</dt>\n\t\t<dd>1</dd>\n\t<dt>broad_impact</dt>\n\t\t<dd>1</dd>\n\t<dt>patents</dt>\n\t\t<dd>3</dd>\n</dl>\n"
          },
          "metadata": {}
        }
      ]
    },
    {
      "metadata": {},
      "cell_type": "markdown",
      "source": "stanford's"
    },
    {
      "metadata": {
        "trusted": true
      },
      "cell_type": "code",
      "source": "stanford <- c(2, 9, 3, 4, 10)\nnames(stanford) <- parameters",
      "execution_count": 4,
      "outputs": []
    },
    {
      "metadata": {
        "trusted": true
      },
      "cell_type": "code",
      "source": "stanford",
      "execution_count": 5,
      "outputs": [
        {
          "output_type": "display_data",
          "data": {
            "text/plain": "          world_rank quality_of_education            influence \n                   2                    9                    3 \n        broad_impact              patents \n                   4                   10 ",
            "text/latex": "\\begin{description*}\n\\item[world\\textbackslash{}\\_rank] 2\n\\item[quality\\textbackslash{}\\_of\\textbackslash{}\\_education] 9\n\\item[influence] 3\n\\item[broad\\textbackslash{}\\_impact] 4\n\\item[patents] 10\n\\end{description*}\n",
            "text/markdown": "world_rank\n:   2quality_of_education\n:   9influence\n:   3broad_impact\n:   4patents\n:   10\n\n",
            "text/html": "<dl class=dl-horizontal>\n\t<dt>world_rank</dt>\n\t\t<dd>2</dd>\n\t<dt>quality_of_education</dt>\n\t\t<dd>9</dd>\n\t<dt>influence</dt>\n\t\t<dd>3</dd>\n\t<dt>broad_impact</dt>\n\t\t<dd>4</dd>\n\t<dt>patents</dt>\n\t\t<dd>10</dd>\n</dl>\n"
          },
          "metadata": {}
        }
      ]
    },
    {
      "metadata": {},
      "cell_type": "markdown",
      "source": "#### Storing data in **MATRIX** form"
    },
    {
      "metadata": {
        "trusted": true
      },
      "cell_type": "code",
      "source": "harvard <- c(1,1,1,1,3)\nstanford <- c(2,9,3,4,10)\nMIT <-c()",
      "execution_count": null,
      "outputs": []
    }
  ],
  "metadata": {
    "kernelspec": {
      "name": "r",
      "display_name": "R",
      "language": "R"
    },
    "language_info": {
      "mimetype": "text/x-r-source",
      "name": "R",
      "pygments_lexer": "r",
      "version": "3.4.1",
      "file_extension": ".r",
      "codemirror_mode": "r"
    }
  },
  "nbformat": 4,
  "nbformat_minor": 2
}