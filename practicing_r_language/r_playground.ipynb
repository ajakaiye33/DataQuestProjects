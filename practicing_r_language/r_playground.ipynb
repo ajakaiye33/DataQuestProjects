{
  "cells": [
    {
      "metadata": {
        "trusted": true
      },
      "cell_type": "code",
      "source": "shey <- c(20,50,60,80)\nshey * 20",
      "execution_count": 1,
      "outputs": [
        {
          "output_type": "display_data",
          "data": {
            "text/plain": "[1]  400 1000 1200 1600",
            "text/latex": "\\begin{enumerate*}\n\\item 400\n\\item 1000\n\\item 1200\n\\item 1600\n\\end{enumerate*}\n",
            "text/markdown": "1. 400\n2. 1000\n3. 1200\n4. 1600\n\n\n",
            "text/html": "<ol class=list-inline>\n\t<li>400</li>\n\t<li>1000</li>\n\t<li>1200</li>\n\t<li>1600</li>\n</ol>\n"
          },
          "metadata": {}
        }
      ]
    },
    {
      "metadata": {
        "trusted": true
      },
      "cell_type": "code",
      "source": "shey / 10",
      "execution_count": 3,
      "outputs": [
        {
          "output_type": "display_data",
          "data": {
            "text/plain": "[1] 2 5 6 8",
            "text/latex": "\\begin{enumerate*}\n\\item 2\n\\item 5\n\\item 6\n\\item 8\n\\end{enumerate*}\n",
            "text/markdown": "1. 2\n2. 5\n3. 6\n4. 8\n\n\n",
            "text/html": "<ol class=list-inline>\n\t<li>2</li>\n\t<li>5</li>\n\t<li>6</li>\n\t<li>8</li>\n</ol>\n"
          },
          "metadata": {}
        }
      ]
    },
    {
      "metadata": {
        "trusted": true
      },
      "cell_type": "code",
      "source": "#create a collection of stem and non_stem final grade for a class\nmath <- 88\nchemistry <- 87.6667\nwriting <- 86\nart <- 91.333333\nhistory <- 84\nmusic <- 91\nphysical_education <- 89.333333\n",
      "execution_count": 6,
      "outputs": []
    },
    {
      "metadata": {
        "trusted": true
      },
      "cell_type": "code",
      "source": "final_grade <- c(math, chemistry, writing, art, history,music,physical_education)\nraw_grade <- c(88, 87.667, 86, 91.333333, 84, 91, 89.33333)",
      "execution_count": 26,
      "outputs": []
    },
    {
      "metadata": {
        "trusted": true
      },
      "cell_type": "code",
      "source": "#extrat the stem courses\nstem_course <- final_grade[1:2]\nnon_stem_course <- final_grade[3:7]\n",
      "execution_count": 19,
      "outputs": []
    },
    {
      "metadata": {
        "trusted": true
      },
      "cell_type": "code",
      "source": "#find the average of stem_courses and non_stem_courses final_grade \nmean_stem_course <- mean(stem_course)\nmean_non_stem <- mean(non_stem_course)\nmean_stem_course\nmean_non_stem",
      "execution_count": 20,
      "outputs": [
        {
          "output_type": "display_data",
          "data": {
            "text/plain": "[1] 87.83335",
            "text/latex": "87.83335",
            "text/markdown": "87.83335",
            "text/html": "87.83335"
          },
          "metadata": {}
        },
        {
          "output_type": "display_data",
          "data": {
            "text/plain": "[1] 88.33333",
            "text/latex": "88.3333332",
            "text/markdown": "88.3333332",
            "text/html": "88.3333332"
          },
          "metadata": {}
        }
      ]
    },
    {
      "metadata": {},
      "cell_type": "markdown",
      "source": "### Data type in R language\nNumeric type\n- Integer or whole numbers\n- Double data or decimal\n\nCharacter type\nmust be surounded with single or double quote\n"
    },
    {
      "metadata": {
        "trusted": true
      },
      "cell_type": "code",
      "source": "#the type can be found out by using the typeof() function\ntypeof(final_grade)",
      "execution_count": 21,
      "outputs": [
        {
          "output_type": "display_data",
          "data": {
            "text/plain": "[1] \"double\"",
            "text/latex": "'double'",
            "text/markdown": "'double'",
            "text/html": "'double'"
          },
          "metadata": {}
        }
      ]
    },
    {
      "metadata": {
        "trusted": true
      },
      "cell_type": "code",
      "source": "#character data type can be palce in a collection function or vector\nmath_chemistry <- c('math', 'chemistry')\ntypeof(math_chemistry)",
      "execution_count": 22,
      "outputs": [
        {
          "output_type": "display_data",
          "data": {
            "text/plain": "[1] \"character\"",
            "text/latex": "'character'",
            "text/markdown": "'character'",
            "text/html": "'character'"
          },
          "metadata": {}
        }
      ]
    },
    {
      "metadata": {},
      "cell_type": "markdown",
      "source": "Create a vector of character data called class_names containing your classes in the following order:\n\n- math\n- chemistry\n- writing\n- art\n- history\n- music\n- physical_education"
    },
    {
      "metadata": {
        "trusted": true
      },
      "cell_type": "code",
      "source": "#solution\nclass_names <- c('math', 'chemistry', 'writing', 'art', 'history', 'music', 'physical_education')\ntypeof(class_names)",
      "execution_count": 23,
      "outputs": [
        {
          "output_type": "display_data",
          "data": {
            "text/plain": "[1] \"character\"",
            "text/latex": "'character'",
            "text/markdown": "'character'",
            "text/html": "'character'"
          },
          "metadata": {}
        }
      ]
    },
    {
      "metadata": {
        "trusted": true
      },
      "cell_type": "code",
      "source": "#using the names() function to assign one vector to another)\n\nmath_chem <- c('math', 'chemistry')\ngrade_math_chem <- c(88, 87.66667)\nnames(grade_math_chem) <- math_chem",
      "execution_count": 24,
      "outputs": []
    },
    {
      "metadata": {
        "trusted": true
      },
      "cell_type": "code",
      "source": "grade_math_chem",
      "execution_count": 25,
      "outputs": [
        {
          "output_type": "display_data",
          "data": {
            "text/plain": "     math chemistry \n 88.00000  87.66667 ",
            "text/latex": "\\begin{description*}\n\\item[math] 88\n\\item[chemistry] 87.66667\n\\end{description*}\n",
            "text/markdown": "math\n:   88chemistry\n:   87.66667\n\n",
            "text/html": "<dl class=dl-horizontal>\n\t<dt>math</dt>\n\t\t<dd>88</dd>\n\t<dt>chemistry</dt>\n\t\t<dd>87.66667</dd>\n</dl>\n"
          },
          "metadata": {}
        }
      ]
    },
    {
      "metadata": {},
      "cell_type": "markdown",
      "source": "Use the class_names vector to assign names to elements of the raw_grade vector."
    },
    {
      "metadata": {
        "trusted": true
      },
      "cell_type": "code",
      "source": "names(raw_grade) <- class_names",
      "execution_count": 27,
      "outputs": []
    },
    {
      "metadata": {
        "trusted": true
      },
      "cell_type": "code",
      "source": "raw_grade",
      "execution_count": 28,
      "outputs": [
        {
          "output_type": "display_data",
          "data": {
            "text/plain": "              math          chemistry            writing                art \n          88.00000           87.66700           86.00000           91.33333 \n           history              music physical_education \n          84.00000           91.00000           89.33333 ",
            "text/latex": "\\begin{description*}\n\\item[math] 88\n\\item[chemistry] 87.667\n\\item[writing] 86\n\\item[art] 91.333333\n\\item[history] 84\n\\item[music] 91\n\\item[physical\\textbackslash{}\\_education] 89.33333\n\\end{description*}\n",
            "text/markdown": "math\n:   88chemistry\n:   87.667writing\n:   86art\n:   91.333333history\n:   84music\n:   91physical_education\n:   89.33333\n\n",
            "text/html": "<dl class=dl-horizontal>\n\t<dt>math</dt>\n\t\t<dd>88</dd>\n\t<dt>chemistry</dt>\n\t\t<dd>87.667</dd>\n\t<dt>writing</dt>\n\t\t<dd>86</dd>\n\t<dt>art</dt>\n\t\t<dd>91.333333</dd>\n\t<dt>history</dt>\n\t\t<dd>84</dd>\n\t<dt>music</dt>\n\t\t<dd>91</dd>\n\t<dt>physical_education</dt>\n\t\t<dd>89.33333</dd>\n</dl>\n"
          },
          "metadata": {}
        }
      ]
    },
    {
      "metadata": {
        "trusted": true
      },
      "cell_type": "code",
      "source": "",
      "execution_count": null,
      "outputs": []
    }
  ],
  "metadata": {
    "kernelspec": {
      "name": "r",
      "display_name": "R",
      "language": "R"
    },
    "language_info": {
      "mimetype": "text/x-r-source",
      "name": "R",
      "pygments_lexer": "r",
      "version": "3.4.1",
      "file_extension": ".r",
      "codemirror_mode": "r"
    }
  },
  "nbformat": 4,
  "nbformat_minor": 2
}